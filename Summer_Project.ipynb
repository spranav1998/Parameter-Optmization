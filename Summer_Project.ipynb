{
  "nbformat": 4,
  "nbformat_minor": 0,
  "metadata": {
    "colab": {
      "provenance": [],
      "collapsed_sections": [],
      "mount_file_id": "1dVtSoJa7yjnXGNzriSCIqKrxk2WoVkMV",
      "authorship_tag": "ABX9TyPUtZVqzw8BRLBskOOglNO7",
      "include_colab_link": true
    },
    "kernelspec": {
      "name": "python3",
      "display_name": "Python 3"
    },
    "language_info": {
      "name": "python"
    }
  },
  "cells": [
    {
      "cell_type": "markdown",
      "metadata": {
        "id": "view-in-github",
        "colab_type": "text"
      },
      "source": [
        "<a href=\"https://colab.research.google.com/github/spranav1998/Parameter-Optmization/blob/main/Summer_Project.ipynb\" target=\"_parent\"><img src=\"https://colab.research.google.com/assets/colab-badge.svg\" alt=\"Open In Colab\"/></a>"
      ]
    },
    {
      "cell_type": "code",
      "metadata": {
        "id": "LicZsilr50h_"
      },
      "source": [
        "import os  # Operating system functionality\n",
        "import random  # Random number generator\n",
        "import pandas as pd  # Data analysis & manipulation\n",
        "import numpy as np  # Array-processing\n",
        "import seaborn as sns  # Data visualization\n",
        "import matplotlib.pyplot as plt  # Data visualization\n",
        "from sklearn import metrics  # Model evaluation\n",
        "from sklearn.model_selection import train_test_split\n",
        "from sklearn.metrics import mean_squared_error\n",
        "from sklearn.metrics import mean_absolute_error\n",
        "import matplotlib.pyplot as plt\n",
        "from sklearn.ensemble import RandomForestRegressor"
      ],
      "execution_count": null,
      "outputs": []
    },
    {
      "cell_type": "code",
      "metadata": {
        "id": "QxrRXiPw6HCn"
      },
      "source": [
        "inp_dir = '/content/drive/MyDrive/Kaggle/1st Paper.csv'\n",
        "\n",
        "inp_file = pd.read_csv(inp_dir,header = None)"
      ],
      "execution_count": null,
      "outputs": []
    },
    {
      "cell_type": "code",
      "metadata": {
        "colab": {
          "base_uri": "https://localhost:8080/",
          "height": 297
        },
        "id": "rkL4G_IL6QWP",
        "outputId": "fcb20f5f-a8d6-4d55-d074-96805406473f"
      },
      "source": [
        "inp_file.describe()"
      ],
      "execution_count": null,
      "outputs": [
        {
          "output_type": "execute_result",
          "data": {
            "text/html": [
              "<div>\n",
              "<style scoped>\n",
              "    .dataframe tbody tr th:only-of-type {\n",
              "        vertical-align: middle;\n",
              "    }\n",
              "\n",
              "    .dataframe tbody tr th {\n",
              "        vertical-align: top;\n",
              "    }\n",
              "\n",
              "    .dataframe thead th {\n",
              "        text-align: right;\n",
              "    }\n",
              "</style>\n",
              "<table border=\"1\" class=\"dataframe\">\n",
              "  <thead>\n",
              "    <tr style=\"text-align: right;\">\n",
              "      <th></th>\n",
              "      <th>0</th>\n",
              "      <th>1</th>\n",
              "      <th>2</th>\n",
              "      <th>3</th>\n",
              "      <th>4</th>\n",
              "      <th>5</th>\n",
              "    </tr>\n",
              "  </thead>\n",
              "  <tbody>\n",
              "    <tr>\n",
              "      <th>count</th>\n",
              "      <td>21.000000</td>\n",
              "      <td>21.000000</td>\n",
              "      <td>21.000000</td>\n",
              "      <td>21.000000</td>\n",
              "      <td>21.000000</td>\n",
              "      <td>21.000000</td>\n",
              "    </tr>\n",
              "    <tr>\n",
              "      <th>mean</th>\n",
              "      <td>210.952381</td>\n",
              "      <td>27.142857</td>\n",
              "      <td>650.952381</td>\n",
              "      <td>1.485048</td>\n",
              "      <td>614.000000</td>\n",
              "      <td>8.827143</td>\n",
              "    </tr>\n",
              "    <tr>\n",
              "      <th>std</th>\n",
              "      <td>21.715147</td>\n",
              "      <td>5.824824</td>\n",
              "      <td>107.140317</td>\n",
              "      <td>0.499933</td>\n",
              "      <td>23.883048</td>\n",
              "      <td>2.588170</td>\n",
              "    </tr>\n",
              "    <tr>\n",
              "      <th>min</th>\n",
              "      <td>180.000000</td>\n",
              "      <td>20.000000</td>\n",
              "      <td>500.000000</td>\n",
              "      <td>0.984000</td>\n",
              "      <td>558.000000</td>\n",
              "      <td>5.150000</td>\n",
              "    </tr>\n",
              "    <tr>\n",
              "      <th>25%</th>\n",
              "      <td>200.000000</td>\n",
              "      <td>20.000000</td>\n",
              "      <td>600.000000</td>\n",
              "      <td>1.067000</td>\n",
              "      <td>601.000000</td>\n",
              "      <td>6.270000</td>\n",
              "    </tr>\n",
              "    <tr>\n",
              "      <th>50%</th>\n",
              "      <td>210.000000</td>\n",
              "      <td>25.000000</td>\n",
              "      <td>640.000000</td>\n",
              "      <td>1.325000</td>\n",
              "      <td>622.000000</td>\n",
              "      <td>9.010000</td>\n",
              "    </tr>\n",
              "    <tr>\n",
              "      <th>75%</th>\n",
              "      <td>230.000000</td>\n",
              "      <td>30.000000</td>\n",
              "      <td>720.000000</td>\n",
              "      <td>1.792000</td>\n",
              "      <td>628.000000</td>\n",
              "      <td>10.730000</td>\n",
              "    </tr>\n",
              "    <tr>\n",
              "      <th>max</th>\n",
              "      <td>240.000000</td>\n",
              "      <td>35.000000</td>\n",
              "      <td>800.000000</td>\n",
              "      <td>2.747000</td>\n",
              "      <td>654.000000</td>\n",
              "      <td>14.870000</td>\n",
              "    </tr>\n",
              "  </tbody>\n",
              "</table>\n",
              "</div>"
            ],
            "text/plain": [
              "                0          1           2          3           4          5\n",
              "count   21.000000  21.000000   21.000000  21.000000   21.000000  21.000000\n",
              "mean   210.952381  27.142857  650.952381   1.485048  614.000000   8.827143\n",
              "std     21.715147   5.824824  107.140317   0.499933   23.883048   2.588170\n",
              "min    180.000000  20.000000  500.000000   0.984000  558.000000   5.150000\n",
              "25%    200.000000  20.000000  600.000000   1.067000  601.000000   6.270000\n",
              "50%    210.000000  25.000000  640.000000   1.325000  622.000000   9.010000\n",
              "75%    230.000000  30.000000  720.000000   1.792000  628.000000  10.730000\n",
              "max    240.000000  35.000000  800.000000   2.747000  654.000000  14.870000"
            ]
          },
          "metadata": {},
          "execution_count": 3
        }
      ]
    },
    {
      "cell_type": "code",
      "metadata": {
        "colab": {
          "base_uri": "https://localhost:8080/"
        },
        "id": "UOniaCXe6SpG",
        "outputId": "85577b6b-a035-41ef-825b-4fd4d5071811"
      },
      "source": [
        "df = pd.DataFrame(inp_file)\n",
        "print(df)"
      ],
      "execution_count": null,
      "outputs": [
        {
          "output_type": "stream",
          "name": "stdout",
          "text": [
            "      0   1    2      3    4      5\n",
            "0   180  20  500  2.747  627   5.80\n",
            "1   180  25  600  1.710  638   7.98\n",
            "2   180  30  700  1.099  622  10.73\n",
            "3   180  35  800  1.002  601  14.87\n",
            "4   200  25  500  1.873  654   9.01\n",
            "5   200  20  600  1.990  603   6.12\n",
            "6   200  35  700  1.011  593  11.82\n",
            "7   200  30  800  1.163  588  11.45\n",
            "8   220  30  500  1.076  623   9.42\n",
            "9   220  35  600  1.014  588  10.18\n",
            "10  220  20  700  1.708  611   6.27\n",
            "11  220  25  800  1.892  652   5.85\n",
            "12  240  35  500  1.067  622  11.62\n",
            "13  240  30  600  1.013  619   9.45\n",
            "14  240  25  700  1.635  602   7.36\n",
            "15  240  20  800  2.310  623   5.15\n",
            "16  190  20  550  1.656  632   7.31\n",
            "17  205  20  600  1.792  630   5.89\n",
            "18  210  30  640  1.119  580   9.82\n",
            "19  230  25  720  1.325  628   7.89\n",
            "20  235  35  760  0.984  558  11.38\n"
          ]
        }
      ]
    },
    {
      "cell_type": "code",
      "metadata": {
        "id": "kBFHqHY46Tzi"
      },
      "source": [
        "#Creating Variable Array\n",
        "X1 = np.array(df[0])\n",
        "X2 = np.array(df[1])\n",
        "X3 = np.array(df[2])\n",
        "y1 = np.array(df[3])\n",
        "y2 = np.array(df[4])\n",
        "y3 = np.array(df[5])\n",
        "\n",
        "#Reshaping the array\n",
        "X1 = X1.reshape(21,1)\n",
        "X2 = X2.reshape(21,1)\n",
        "X3 = X3.reshape(21,1)\n",
        "y1 = y1.reshape(21,1)\n",
        "y2 = y2.reshape(21,1)\n",
        "y3 = y3.reshape(21,1)\n",
        "\n",
        "#\n",
        "X = np.hstack((X1, X2, X3))\n",
        "y = np.hstack((y1,y2,y3))"
      ],
      "execution_count": null,
      "outputs": []
    },
    {
      "cell_type": "code",
      "metadata": {
        "colab": {
          "base_uri": "https://localhost:8080/"
        },
        "id": "nIk521X46WQ-",
        "outputId": "8697be45-aacf-437d-8e0c-ec96b48116f9"
      },
      "source": [
        "print(\"X:\", X.shape, \"Y:\", y.shape)\n",
        "in_dim = X.shape[1]\n",
        "out_dim = y.shape[1]"
      ],
      "execution_count": null,
      "outputs": [
        {
          "output_type": "stream",
          "name": "stdout",
          "text": [
            "X: (21, 3) Y: (21, 3)\n"
          ]
        }
      ]
    },
    {
      "cell_type": "markdown",
      "metadata": {
        "id": "itzDJbY08BKS"
      },
      "source": [
        "# RANDOM FOREST REGRESSION FOR EC\n",
        "\n",
        "\n"
      ]
    },
    {
      "cell_type": "code",
      "metadata": {
        "id": "Z7gRQZWZ2XM0"
      },
      "source": [
        "xtrain, xtest, y1train, y1test=train_test_split(X, y1, test_size=0.2, random_state=1)"
      ],
      "execution_count": null,
      "outputs": []
    },
    {
      "cell_type": "code",
      "metadata": {
        "colab": {
          "base_uri": "https://localhost:8080/"
        },
        "id": "l-TxQV336cLU",
        "outputId": "f064350b-c1be-42c9-f20e-dadb0ead2ea6"
      },
      "source": [
        "regr1 = RandomForestRegressor(max_depth=10, random_state=2, n_estimators= 9)\n",
        "regr1.fit(xtrain, y1train)"
      ],
      "execution_count": null,
      "outputs": [
        {
          "output_type": "stream",
          "name": "stderr",
          "text": [
            "/usr/local/lib/python3.7/dist-packages/ipykernel_launcher.py:2: DataConversionWarning: A column-vector y was passed when a 1d array was expected. Please change the shape of y to (n_samples,), for example using ravel().\n",
            "  \n"
          ]
        },
        {
          "output_type": "execute_result",
          "data": {
            "text/plain": [
              "RandomForestRegressor(bootstrap=True, ccp_alpha=0.0, criterion='mse',\n",
              "                      max_depth=10, max_features='auto', max_leaf_nodes=None,\n",
              "                      max_samples=None, min_impurity_decrease=0.0,\n",
              "                      min_impurity_split=None, min_samples_leaf=1,\n",
              "                      min_samples_split=2, min_weight_fraction_leaf=0.0,\n",
              "                      n_estimators=9, n_jobs=None, oob_score=False,\n",
              "                      random_state=2, verbose=0, warm_start=False)"
            ]
          },
          "metadata": {},
          "execution_count": 8
        }
      ]
    },
    {
      "cell_type": "code",
      "metadata": {
        "colab": {
          "base_uri": "https://localhost:8080/"
        },
        "id": "8JAKAY1T6nIg",
        "outputId": "df9bedc2-4e0d-44e6-d302-44f9be25db5a"
      },
      "source": [
        "y1_pred = regr1.predict(xtest)\n",
        "print(\"y1 RMSE:%.4f\" % mean_squared_error(y1test, y1_pred,squared=False))\n",
        "print(\"y1 RMAE:%.4f\" % mean_absolute_error(y1test, y1_pred))"
      ],
      "execution_count": null,
      "outputs": [
        {
          "output_type": "stream",
          "name": "stdout",
          "text": [
            "y1 RMSE:0.2777\n",
            "y1 RMAE:0.2229\n"
          ]
        }
      ]
    },
    {
      "cell_type": "markdown",
      "metadata": {
        "id": "U1eneILl6aNR"
      },
      "source": [
        "# RANDOM FOREST REGRESSION FOR TS"
      ]
    },
    {
      "cell_type": "code",
      "metadata": {
        "id": "sOdLFTts6kPC"
      },
      "source": [
        "xtrain, xtest, y2train, y2test=train_test_split(X, y2, test_size=0.2,random_state=1)"
      ],
      "execution_count": null,
      "outputs": []
    },
    {
      "cell_type": "code",
      "metadata": {
        "colab": {
          "base_uri": "https://localhost:8080/"
        },
        "id": "pvOJFuN-6oao",
        "outputId": "1484377e-84e6-48dc-9583-357c7db63081"
      },
      "source": [
        "regr2 = RandomForestRegressor(max_depth=100, random_state=1, n_estimators=7)\n",
        "regr2.fit(xtrain, y2train)"
      ],
      "execution_count": null,
      "outputs": [
        {
          "output_type": "stream",
          "name": "stderr",
          "text": [
            "/usr/local/lib/python3.7/dist-packages/ipykernel_launcher.py:2: DataConversionWarning: A column-vector y was passed when a 1d array was expected. Please change the shape of y to (n_samples,), for example using ravel().\n",
            "  \n"
          ]
        },
        {
          "output_type": "execute_result",
          "data": {
            "text/plain": [
              "RandomForestRegressor(bootstrap=True, ccp_alpha=0.0, criterion='mse',\n",
              "                      max_depth=100, max_features='auto', max_leaf_nodes=None,\n",
              "                      max_samples=None, min_impurity_decrease=0.0,\n",
              "                      min_impurity_split=None, min_samples_leaf=1,\n",
              "                      min_samples_split=2, min_weight_fraction_leaf=0.0,\n",
              "                      n_estimators=7, n_jobs=None, oob_score=False,\n",
              "                      random_state=1, verbose=0, warm_start=False)"
            ]
          },
          "metadata": {},
          "execution_count": 11
        }
      ]
    },
    {
      "cell_type": "code",
      "metadata": {
        "colab": {
          "base_uri": "https://localhost:8080/"
        },
        "id": "4AyfhXTi6s4c",
        "outputId": "a174ad7e-a2af-47e8-d01b-8e2685080a9b"
      },
      "source": [
        "y2_pred = regr2.predict(xtest)\n",
        "print(\"y2 MSE:%.4f\" % mean_squared_error(y2test, y2_pred,squared=False))\n",
        "print(\"y2 MAE:%.4f\" % mean_absolute_error(y2test, y2_pred))"
      ],
      "execution_count": null,
      "outputs": [
        {
          "output_type": "stream",
          "name": "stdout",
          "text": [
            "y2 MSE:14.8134\n",
            "y2 MAE:11.4857\n"
          ]
        }
      ]
    },
    {
      "cell_type": "markdown",
      "metadata": {
        "id": "Bups3enh9_hY"
      },
      "source": [
        "# RANDOM FOREST REGRESSION FOR SR"
      ]
    },
    {
      "cell_type": "code",
      "metadata": {
        "id": "eT4o84Ev-We2"
      },
      "source": [
        "xtrain, xtest, y3train, y3test=train_test_split(X, y3, test_size=0.2,random_state=1)"
      ],
      "execution_count": null,
      "outputs": []
    },
    {
      "cell_type": "code",
      "metadata": {
        "colab": {
          "base_uri": "https://localhost:8080/"
        },
        "id": "KCDYuQmp-dn_",
        "outputId": "d5bf95bd-0321-4dbe-cb9c-48c5d2cf8cd6"
      },
      "source": [
        "regr3 = RandomForestRegressor(max_depth=100, random_state=2, n_estimators=5)\n",
        "regr3.fit(xtrain, y3train)"
      ],
      "execution_count": null,
      "outputs": [
        {
          "output_type": "stream",
          "name": "stderr",
          "text": [
            "/usr/local/lib/python3.7/dist-packages/ipykernel_launcher.py:2: DataConversionWarning: A column-vector y was passed when a 1d array was expected. Please change the shape of y to (n_samples,), for example using ravel().\n",
            "  \n"
          ]
        },
        {
          "output_type": "execute_result",
          "data": {
            "text/plain": [
              "RandomForestRegressor(bootstrap=True, ccp_alpha=0.0, criterion='mse',\n",
              "                      max_depth=100, max_features='auto', max_leaf_nodes=None,\n",
              "                      max_samples=None, min_impurity_decrease=0.0,\n",
              "                      min_impurity_split=None, min_samples_leaf=1,\n",
              "                      min_samples_split=2, min_weight_fraction_leaf=0.0,\n",
              "                      n_estimators=5, n_jobs=None, oob_score=False,\n",
              "                      random_state=2, verbose=0, warm_start=False)"
            ]
          },
          "metadata": {},
          "execution_count": 14
        }
      ]
    },
    {
      "cell_type": "code",
      "metadata": {
        "colab": {
          "base_uri": "https://localhost:8080/"
        },
        "id": "g7vMhxrX-g9V",
        "outputId": "55352dbe-f296-4ca2-bd4a-b2f0484103c8"
      },
      "source": [
        "y3_pred = regr3.predict(xtest)\n",
        "print(\"y2 MSE:%.4f\" % mean_squared_error(y3test, y3_pred,squared=False))\n",
        "print(\"y2 MAE:%.4f\" % mean_absolute_error(y3test, y3_pred))\n",
        "print('R^2 =',regr3.score(xtest,y3test))"
      ],
      "execution_count": null,
      "outputs": [
        {
          "output_type": "stream",
          "name": "stdout",
          "text": [
            "y2 MSE:1.5980\n",
            "y2 MAE:1.0096\n",
            "R^2 = 0.804402054022256\n"
          ]
        }
      ]
    },
    {
      "cell_type": "markdown",
      "metadata": {
        "id": "UGK02gwuEm_p"
      },
      "source": [
        "# Optimization in Random Forest"
      ]
    },
    {
      "cell_type": "code",
      "metadata": {
        "id": "v-DeouOnZkXx"
      },
      "source": [
        "def arr_w(x):\n",
        "  return (x[0]*1/3) + (x[1]*-1/3) + (x[2]*1/3) \n"
      ],
      "execution_count": null,
      "outputs": []
    },
    {
      "cell_type": "code",
      "metadata": {
        "id": "zBsf83TeFZvB"
      },
      "source": [
        "LP = [i for i in range(180,241,2)]\n",
        "LT = [i for i in range(20,36)]\n",
        "SS = [i for i in range(500,800,20)]\n",
        "ec_ts_sr = []\n",
        "lp_lt_ss = []\n",
        "min_arr = []"
      ],
      "execution_count": null,
      "outputs": []
    },
    {
      "cell_type": "code",
      "metadata": {
        "id": "cIz3_EBDGYSt"
      },
      "source": [
        "for lp in LP:\n",
        "  for lt in LT:\n",
        "    for ss in SS:\n",
        "      ec = regr1.predict([[lp,lt,ss]])\n",
        "      ts = regr2.predict([[lp,lt,ss]])\n",
        "      sr = regr3.predict([[lp,lt,ss]])\n",
        "      ec_ts_sr_array = np.hstack((ec,ts,sr))\n",
        "      ec_ts_sr.append(ec_ts_sr_array)\n",
        "      lp_lt_ss.append([lp,lt,ss])\n",
        "      min_arr.append(arr_w(ec_ts_sr_array))"
      ],
      "execution_count": null,
      "outputs": []
    },
    {
      "cell_type": "code",
      "metadata": {
        "colab": {
          "base_uri": "https://localhost:8080/"
        },
        "id": "Fcy5bNRQNQgM",
        "outputId": "df4d0203-3432-44fe-db8f-91f1fc82f243"
      },
      "source": [
        "for i in range(6):\n",
        "  print(ec_ts_sr[i],lp_lt_ss[i],arr_w(ec_ts_sr[i]))\n"
      ],
      "execution_count": null,
      "outputs": [
        {
          "output_type": "stream",
          "name": "stdout",
          "text": [
            "[  2.30522222 629.14285714   7.386     ] [180, 20, 500] -206.4838783068783\n",
            "[  2.30522222 629.14285714   7.386     ] [180, 20, 520] -206.4838783068783\n",
            "[  2.06877778 629.14285714   7.046     ] [180, 20, 540] -206.67602645502643\n",
            "[  2.06877778 625.71428571   6.468     ] [180, 20, 560] -205.72583597883596\n",
            "[  2.06877778 626.57142857   6.468     ] [180, 20, 580] -206.01155026455027\n",
            "[  2.06877778 626.57142857   6.468     ] [180, 20, 600] -206.01155026455027\n"
          ]
        }
      ]
    },
    {
      "cell_type": "code",
      "metadata": {
        "colab": {
          "base_uri": "https://localhost:8080/"
        },
        "id": "0_4EWjIGdDbN",
        "outputId": "94535fce-7984-4072-a840-de5aa257b7ca"
      },
      "source": [
        "min_arr = np.array(min_arr)\n",
        "print(lp_lt_ss[min_arr.argmin()])\n",
        "print(ec_ts_sr[min_arr.argmin()])"
      ],
      "execution_count": null,
      "outputs": [
        {
          "output_type": "stream",
          "name": "stdout",
          "text": [
            "[216, 23, 780]\n",
            "[  1.766      648.57142857   6.258     ]\n"
          ]
        }
      ]
    },
    {
      "cell_type": "code",
      "metadata": {
        "id": "yfLXLO0h8fye"
      },
      "source": [],
      "execution_count": null,
      "outputs": []
    },
    {
      "cell_type": "markdown",
      "metadata": {
        "id": "CcLvsef7fRha"
      },
      "source": [
        "# Ridge Regression"
      ]
    },
    {
      "cell_type": "code",
      "metadata": {
        "id": "W0kR7ZZCfzNL"
      },
      "source": [
        "from sklearn import linear_model"
      ],
      "execution_count": null,
      "outputs": []
    },
    {
      "cell_type": "code",
      "metadata": {
        "colab": {
          "base_uri": "https://localhost:8080/"
        },
        "id": "Px60JS5PgAhu",
        "outputId": "f74dd0a4-2398-44d0-ba45-1a30a88502e4"
      },
      "source": [
        "ridge_regr1 = linear_model.Ridge(alpha=0.00001,tol=0.00001,normalize=True,fit_intercept=False)\n",
        "ridge_regr1.fit(xtrain,y1train)"
      ],
      "execution_count": null,
      "outputs": [
        {
          "output_type": "execute_result",
          "data": {
            "text/plain": [
              "Ridge(alpha=1e-05, copy_X=True, fit_intercept=False, max_iter=None,\n",
              "      normalize=True, random_state=None, solver='auto', tol=1e-05)"
            ]
          },
          "metadata": {},
          "execution_count": 22
        }
      ]
    },
    {
      "cell_type": "code",
      "metadata": {
        "colab": {
          "base_uri": "https://localhost:8080/"
        },
        "id": "aXPl69PNgsYj",
        "outputId": "d15d3e50-e15a-4b62-88f5-6da6a45dc20a"
      },
      "source": [
        "y1_pred = ridge_regr1.predict(xtest)\n",
        "print(\"y1 MSE:%.4f\" % mean_squared_error(y1test, y1_pred,squared=False))\n",
        "print(\"y1 MAE:%.4f\" % mean_absolute_error(y1test, y1_pred))"
      ],
      "execution_count": null,
      "outputs": [
        {
          "output_type": "stream",
          "name": "stdout",
          "text": [
            "y1 MSE:0.2507\n",
            "y1 MAE:0.2152\n"
          ]
        }
      ]
    },
    {
      "cell_type": "code",
      "metadata": {
        "colab": {
          "base_uri": "https://localhost:8080/"
        },
        "id": "1Dkmf6cQg0-o",
        "outputId": "8a600581-ba19-4f98-90da-1d845e8c36c4"
      },
      "source": [
        "ridge_regr2 = linear_model.Ridge(random_state= 11,solver='auto',alpha=110)\n",
        "ridge_regr2.fit(xtrain,y2train)"
      ],
      "execution_count": null,
      "outputs": [
        {
          "output_type": "execute_result",
          "data": {
            "text/plain": [
              "Ridge(alpha=110, copy_X=True, fit_intercept=True, max_iter=None,\n",
              "      normalize=False, random_state=11, solver='auto', tol=0.001)"
            ]
          },
          "metadata": {},
          "execution_count": 24
        }
      ]
    },
    {
      "cell_type": "code",
      "metadata": {
        "colab": {
          "base_uri": "https://localhost:8080/"
        },
        "id": "3ffyii4Ag8p4",
        "outputId": "609b851a-6711-4b86-a280-b6c2f0e63ca1"
      },
      "source": [
        "y2_pred = ridge_regr2.predict(xtest)\n",
        "print(\"y2 MSE:%.4f\" % mean_squared_error(y2test, y2_pred,squared=False))\n",
        "print(\"y2 MAE:%.4f\" % mean_absolute_error(y2test, y2_pred))"
      ],
      "execution_count": null,
      "outputs": [
        {
          "output_type": "stream",
          "name": "stdout",
          "text": [
            "y2 MSE:15.8872\n",
            "y2 MAE:12.1266\n"
          ]
        }
      ]
    },
    {
      "cell_type": "code",
      "metadata": {
        "colab": {
          "base_uri": "https://localhost:8080/"
        },
        "id": "XgXp8_zAlW2p",
        "outputId": "bf0bc510-dce1-4a24-fae3-103724b5d412"
      },
      "source": [
        "ridge_regr3 = linear_model.Ridge(random_state= 10,solver='auto',alpha=0.001,)\n",
        "ridge_regr3.fit(xtrain,y3train)"
      ],
      "execution_count": null,
      "outputs": [
        {
          "output_type": "execute_result",
          "data": {
            "text/plain": [
              "Ridge(alpha=0.001, copy_X=True, fit_intercept=True, max_iter=None,\n",
              "      normalize=False, random_state=10, solver='auto', tol=0.001)"
            ]
          },
          "metadata": {},
          "execution_count": 26
        }
      ]
    },
    {
      "cell_type": "code",
      "metadata": {
        "colab": {
          "base_uri": "https://localhost:8080/"
        },
        "id": "aTZhpTYylcgC",
        "outputId": "f74ea5eb-0669-4e51-9ecf-a475de912885"
      },
      "source": [
        "y3_pred = ridge_regr3.predict(xtest)\n",
        "print(\"y2 MSE:%.4f\" % mean_squared_error(y3test, y3_pred,squared=False))\n",
        "print(\"y2 MAE:%.4f\" % mean_absolute_error(y3test, y3_pred))"
      ],
      "execution_count": null,
      "outputs": [
        {
          "output_type": "stream",
          "name": "stdout",
          "text": [
            "y2 MSE:1.1624\n",
            "y2 MAE:0.6729\n"
          ]
        }
      ]
    },
    {
      "cell_type": "code",
      "metadata": {
        "id": "UxbOxtHGm7H_"
      },
      "source": [
        "LP = [i for i in range(180,241,2)]\n",
        "LT = [i for i in range(20,36)]\n",
        "SS = [i for i in range(500,800,20)]\n",
        "ec_ts_sr = []\n",
        "lp_lt_ss = []\n",
        "min_arr = []"
      ],
      "execution_count": null,
      "outputs": []
    },
    {
      "cell_type": "code",
      "metadata": {
        "id": "6PySyMSqmt2s"
      },
      "source": [
        "for lp in LP:\n",
        "  for lt in LT:\n",
        "    for ss in SS:\n",
        "      ec = ridge_regr1.predict([[lp,lt,ss]])\n",
        "      ts = ridge_regr2.predict([[lp,lt,ss]])\n",
        "      sr = ridge_regr3.predict([[lp,lt,ss]])\n",
        "      ec_ts_sr_array = np.hstack((ec,ts,sr))\n",
        "      ec_ts_sr.append(ec_ts_sr_array)\n",
        "      lp_lt_ss.append([lp,lt,ss])\n",
        "      min_arr.append(arr_w(ec_ts_sr_array[0]))"
      ],
      "execution_count": null,
      "outputs": []
    },
    {
      "cell_type": "code",
      "metadata": {
        "colab": {
          "base_uri": "https://localhost:8080/"
        },
        "id": "PvSF9Cbx8bvd",
        "outputId": "7a64c7a8-4efa-4f27-9f16-e61a4227f214"
      },
      "source": [
        "min_arr = np.array(min_arr)\n",
        "print(lp_lt_ss[min_arr.argmin()])\n",
        "print(ec_ts_sr[min_arr.argmin()])"
      ],
      "execution_count": null,
      "outputs": [
        {
          "output_type": "stream",
          "name": "stdout",
          "text": [
            "[180, 20, 500]\n",
            "[[  1.41821187 640.83804185   6.65050838]]\n"
          ]
        }
      ]
    },
    {
      "cell_type": "markdown",
      "metadata": {
        "id": "8KpE-nKz8z4Q"
      },
      "source": [
        "# Adaboost Regression"
      ]
    },
    {
      "cell_type": "code",
      "metadata": {
        "id": "lFUVbSnI8zcW"
      },
      "source": [
        "from sklearn.ensemble import AdaBoostRegressor"
      ],
      "execution_count": null,
      "outputs": []
    },
    {
      "cell_type": "code",
      "metadata": {
        "colab": {
          "base_uri": "https://localhost:8080/"
        },
        "id": "EZ-q_1C59bVZ",
        "outputId": "64794641-9a8e-402a-8bbc-401e51fdf26a"
      },
      "source": [
        "ada_regr1 = AdaBoostRegressor(random_state=1, n_estimators=10,learning_rate=1)\n",
        "ada_regr1.fit(xtrain,y1train)"
      ],
      "execution_count": null,
      "outputs": [
        {
          "output_type": "stream",
          "name": "stderr",
          "text": [
            "/usr/local/lib/python3.7/dist-packages/sklearn/utils/validation.py:760: DataConversionWarning: A column-vector y was passed when a 1d array was expected. Please change the shape of y to (n_samples, ), for example using ravel().\n",
            "  y = column_or_1d(y, warn=True)\n"
          ]
        },
        {
          "output_type": "execute_result",
          "data": {
            "text/plain": [
              "AdaBoostRegressor(base_estimator=None, learning_rate=1, loss='linear',\n",
              "                  n_estimators=10, random_state=1)"
            ]
          },
          "metadata": {},
          "execution_count": 32
        }
      ]
    },
    {
      "cell_type": "code",
      "metadata": {
        "colab": {
          "base_uri": "https://localhost:8080/"
        },
        "id": "z5FrAsii9inN",
        "outputId": "ec01a31d-9b30-4ae9-cd9e-5895e2bae348"
      },
      "source": [
        "y1_pred = ada_regr1.predict(xtest)\n",
        "print(\"y1 MSE:%.4f\" % mean_squared_error(y1test, y1_pred,squared=False))\n",
        "print(\"y1 MAE:%.4f\" % mean_absolute_error(y1test, y1_pred))"
      ],
      "execution_count": null,
      "outputs": [
        {
          "output_type": "stream",
          "name": "stdout",
          "text": [
            "y1 MSE:0.2249\n",
            "y1 MAE:0.1673\n"
          ]
        }
      ]
    },
    {
      "cell_type": "code",
      "metadata": {
        "colab": {
          "base_uri": "https://localhost:8080/"
        },
        "id": "_8c4tR-I94H1",
        "outputId": "2626d498-d663-4383-8da4-8a8829d5bfdd"
      },
      "source": [
        "ada_regr2 = AdaBoostRegressor(random_state=2, n_estimators=10,learning_rate=1e-5,loss='exponential')\n",
        "ada_regr2.fit(xtrain,y2train)"
      ],
      "execution_count": null,
      "outputs": [
        {
          "output_type": "stream",
          "name": "stderr",
          "text": [
            "/usr/local/lib/python3.7/dist-packages/sklearn/utils/validation.py:760: DataConversionWarning: A column-vector y was passed when a 1d array was expected. Please change the shape of y to (n_samples, ), for example using ravel().\n",
            "  y = column_or_1d(y, warn=True)\n"
          ]
        },
        {
          "output_type": "execute_result",
          "data": {
            "text/plain": [
              "AdaBoostRegressor(base_estimator=None, learning_rate=1e-05, loss='exponential',\n",
              "                  n_estimators=10, random_state=2)"
            ]
          },
          "metadata": {},
          "execution_count": 34
        }
      ]
    },
    {
      "cell_type": "code",
      "metadata": {
        "colab": {
          "base_uri": "https://localhost:8080/"
        },
        "id": "KAvnhJyK-A1H",
        "outputId": "aae54d5a-b3ae-4b36-cba1-c19ee2ae16cc"
      },
      "source": [
        "y2_pred = ada_regr2.predict(xtest)\n",
        "print(\"y2 MSE:%.4f\" % mean_squared_error(y2test, y2_pred,squared=False))\n",
        "print(\"y2 MAE:%.4f\" % mean_absolute_error(y2test, y2_pred))"
      ],
      "execution_count": null,
      "outputs": [
        {
          "output_type": "stream",
          "name": "stdout",
          "text": [
            "y2 MSE:15.8812\n",
            "y2 MAE:14.6500\n"
          ]
        }
      ]
    },
    {
      "cell_type": "code",
      "metadata": {
        "colab": {
          "base_uri": "https://localhost:8080/"
        },
        "id": "UCOvA-ok_c3J",
        "outputId": "4d86880f-4704-4148-94bc-2902a95a7ee5"
      },
      "source": [
        "ada_regr3 = AdaBoostRegressor(random_state=1, n_estimators=6,learning_rate=1e-3,loss='exponential')\n",
        "ada_regr3.fit(xtrain,y3train)"
      ],
      "execution_count": null,
      "outputs": [
        {
          "output_type": "stream",
          "name": "stderr",
          "text": [
            "/usr/local/lib/python3.7/dist-packages/sklearn/utils/validation.py:760: DataConversionWarning: A column-vector y was passed when a 1d array was expected. Please change the shape of y to (n_samples, ), for example using ravel().\n",
            "  y = column_or_1d(y, warn=True)\n"
          ]
        },
        {
          "output_type": "execute_result",
          "data": {
            "text/plain": [
              "AdaBoostRegressor(base_estimator=None, learning_rate=0.001, loss='exponential',\n",
              "                  n_estimators=6, random_state=1)"
            ]
          },
          "metadata": {},
          "execution_count": 36
        }
      ]
    },
    {
      "cell_type": "code",
      "metadata": {
        "colab": {
          "base_uri": "https://localhost:8080/"
        },
        "id": "rztsKVLu_wzv",
        "outputId": "e9cc691c-7ff5-40f6-f495-0042d460703b"
      },
      "source": [
        "y3_pred = ada_regr3.predict(xtest)\n",
        "print(\"y3 MSE:%.4f\" % mean_squared_error(y3test, y3_pred,squared=False))\n",
        "print(\"y3 MAE:%.4f\" % mean_absolute_error(y3test, y3_pred))"
      ],
      "execution_count": null,
      "outputs": [
        {
          "output_type": "stream",
          "name": "stdout",
          "text": [
            "y3 MSE:1.5998\n",
            "y3 MAE:1.0768\n"
          ]
        }
      ]
    },
    {
      "cell_type": "code",
      "metadata": {
        "id": "ZCvt_UfQAeI-"
      },
      "source": [
        "LP = [i for i in range(180,241,2)]\n",
        "LT = [i for i in range(20,36)]\n",
        "SS = [i for i in range(500,800,20)]\n",
        "ec_ts_sr = []\n",
        "lp_lt_ss = []\n",
        "min_arr = []"
      ],
      "execution_count": null,
      "outputs": []
    },
    {
      "cell_type": "code",
      "metadata": {
        "id": "sQDI6ZsiAgRn"
      },
      "source": [
        "for lp in LP:\n",
        "  for lt in LT:\n",
        "    for ss in SS:\n",
        "      ec = ada_regr1.predict([[lp,lt,ss]])\n",
        "      ts = ada_regr2.predict([[lp,lt,ss]])\n",
        "      sr = ada_regr3.predict([[lp,lt,ss]])\n",
        "      ec_ts_sr_array = np.hstack((ec,ts,sr))\n",
        "      ec_ts_sr.append(ec_ts_sr_array)\n",
        "      lp_lt_ss.append([lp,lt,ss])\n",
        "      min_arr.append(arr_w(ec_ts_sr_array))"
      ],
      "execution_count": null,
      "outputs": []
    },
    {
      "cell_type": "code",
      "metadata": {
        "colab": {
          "base_uri": "https://localhost:8080/"
        },
        "id": "aUz_qFj5AjS7",
        "outputId": "2e12b862-7f49-42fc-8505-3e6e4297012e"
      },
      "source": [
        "min_arr = np.array(min_arr)\n",
        "print(lp_lt_ss[min_arr.argmin()])\n",
        "print(ec_ts_sr[min_arr.argmin()])"
      ],
      "execution_count": null,
      "outputs": [
        {
          "output_type": "stream",
          "name": "stdout",
          "text": [
            "[192, 23, 500]\n",
            "[  1.82816667 637.66666667   8.34      ]\n"
          ]
        }
      ]
    },
    {
      "cell_type": "markdown",
      "metadata": {
        "id": "jhBP4vfCd_G7"
      },
      "source": [
        "# GradientBoostingRegressor"
      ]
    },
    {
      "cell_type": "code",
      "metadata": {
        "id": "zLUyzo94eHLg"
      },
      "source": [
        "from sklearn.ensemble import GradientBoostingRegressor"
      ],
      "execution_count": null,
      "outputs": []
    },
    {
      "cell_type": "code",
      "metadata": {
        "colab": {
          "base_uri": "https://localhost:8080/"
        },
        "id": "l05b_9N5eQEc",
        "outputId": "ebb8008e-b310-480b-c198-f7ba7cce8f93"
      },
      "source": [
        "gbr_regr1 = GradientBoostingRegressor(random_state=3,learning_rate=0.1,loss='quantile')\n",
        "gbr_regr1.fit(xtrain,y1train)"
      ],
      "execution_count": null,
      "outputs": [
        {
          "output_type": "stream",
          "name": "stderr",
          "text": [
            "/usr/local/lib/python3.7/dist-packages/sklearn/ensemble/_gb.py:1454: DataConversionWarning: A column-vector y was passed when a 1d array was expected. Please change the shape of y to (n_samples, ), for example using ravel().\n",
            "  y = column_or_1d(y, warn=True)\n"
          ]
        },
        {
          "output_type": "execute_result",
          "data": {
            "text/plain": [
              "GradientBoostingRegressor(alpha=0.9, ccp_alpha=0.0, criterion='friedman_mse',\n",
              "                          init=None, learning_rate=0.1, loss='quantile',\n",
              "                          max_depth=3, max_features=None, max_leaf_nodes=None,\n",
              "                          min_impurity_decrease=0.0, min_impurity_split=None,\n",
              "                          min_samples_leaf=1, min_samples_split=2,\n",
              "                          min_weight_fraction_leaf=0.0, n_estimators=100,\n",
              "                          n_iter_no_change=None, presort='deprecated',\n",
              "                          random_state=3, subsample=1.0, tol=0.0001,\n",
              "                          validation_fraction=0.1, verbose=0, warm_start=False)"
            ]
          },
          "metadata": {},
          "execution_count": 42
        }
      ]
    },
    {
      "cell_type": "code",
      "metadata": {
        "colab": {
          "base_uri": "https://localhost:8080/"
        },
        "id": "4nLhkgQTeXrj",
        "outputId": "f8b1641f-b481-4e69-a011-3a36e6c12edb"
      },
      "source": [
        "y1_pred = gbr_regr1.predict(xtest)\n",
        "print(\"y1 MSE:%.4f\" % mean_squared_error(y1test, y1_pred,squared=False))\n",
        "print(\"y1 MAE:%.4f\" % mean_absolute_error(y1test, y1_pred))"
      ],
      "execution_count": null,
      "outputs": [
        {
          "output_type": "stream",
          "name": "stdout",
          "text": [
            "y1 MSE:0.2540\n",
            "y1 MAE:0.2463\n"
          ]
        }
      ]
    },
    {
      "cell_type": "code",
      "metadata": {
        "colab": {
          "base_uri": "https://localhost:8080/"
        },
        "id": "rBg_9B2Cex_o",
        "outputId": "11b86065-f8db-453b-dc92-2926cfd90561"
      },
      "source": [
        "gbr_regr2 = GradientBoostingRegressor(random_state=1,learning_rate=0.09,loss='huber',max_depth=3,validation_fraction=0.2,tol=1e-5,n_estimators=10)\n",
        "gbr_regr2.fit(xtrain,y2train)"
      ],
      "execution_count": null,
      "outputs": [
        {
          "output_type": "stream",
          "name": "stderr",
          "text": [
            "/usr/local/lib/python3.7/dist-packages/sklearn/ensemble/_gb.py:1454: DataConversionWarning: A column-vector y was passed when a 1d array was expected. Please change the shape of y to (n_samples, ), for example using ravel().\n",
            "  y = column_or_1d(y, warn=True)\n"
          ]
        },
        {
          "output_type": "execute_result",
          "data": {
            "text/plain": [
              "GradientBoostingRegressor(alpha=0.9, ccp_alpha=0.0, criterion='friedman_mse',\n",
              "                          init=None, learning_rate=0.09, loss='huber',\n",
              "                          max_depth=3, max_features=None, max_leaf_nodes=None,\n",
              "                          min_impurity_decrease=0.0, min_impurity_split=None,\n",
              "                          min_samples_leaf=1, min_samples_split=2,\n",
              "                          min_weight_fraction_leaf=0.0, n_estimators=10,\n",
              "                          n_iter_no_change=None, presort='deprecated',\n",
              "                          random_state=1, subsample=1.0, tol=1e-05,\n",
              "                          validation_fraction=0.2, verbose=0, warm_start=False)"
            ]
          },
          "metadata": {},
          "execution_count": 44
        }
      ]
    },
    {
      "cell_type": "code",
      "metadata": {
        "colab": {
          "base_uri": "https://localhost:8080/"
        },
        "id": "lwoBRAI-e4av",
        "outputId": "2e253fee-4850-441d-c4b7-599792bf6422"
      },
      "source": [
        "y2_pred = gbr_regr2.predict(xtest)\n",
        "print(\"y2 MSE:%.4f\" % mean_squared_error(y2test, y2_pred,squared=False))\n",
        "print(\"y2 MAE:%.4f\" % mean_absolute_error(y2test, y2_pred))"
      ],
      "execution_count": null,
      "outputs": [
        {
          "output_type": "stream",
          "name": "stdout",
          "text": [
            "y2 MSE:19.4469\n",
            "y2 MAE:14.6065\n"
          ]
        }
      ]
    },
    {
      "cell_type": "code",
      "metadata": {
        "colab": {
          "base_uri": "https://localhost:8080/"
        },
        "id": "Jn_KOCydgtau",
        "outputId": "90386afc-7cc4-465e-a512-7befd166fdd4"
      },
      "source": [
        "gbr_regr3 = GradientBoostingRegressor(random_state=2,learning_rate=0.72,loss='ls',max_depth=2,n_estimators=9,validation_fraction=0.2)\n",
        "gbr_regr3.fit(xtrain,y3train)"
      ],
      "execution_count": null,
      "outputs": [
        {
          "output_type": "stream",
          "name": "stderr",
          "text": [
            "/usr/local/lib/python3.7/dist-packages/sklearn/ensemble/_gb.py:1454: DataConversionWarning: A column-vector y was passed when a 1d array was expected. Please change the shape of y to (n_samples, ), for example using ravel().\n",
            "  y = column_or_1d(y, warn=True)\n"
          ]
        },
        {
          "output_type": "execute_result",
          "data": {
            "text/plain": [
              "GradientBoostingRegressor(alpha=0.9, ccp_alpha=0.0, criterion='friedman_mse',\n",
              "                          init=None, learning_rate=0.72, loss='ls', max_depth=2,\n",
              "                          max_features=None, max_leaf_nodes=None,\n",
              "                          min_impurity_decrease=0.0, min_impurity_split=None,\n",
              "                          min_samples_leaf=1, min_samples_split=2,\n",
              "                          min_weight_fraction_leaf=0.0, n_estimators=9,\n",
              "                          n_iter_no_change=None, presort='deprecated',\n",
              "                          random_state=2, subsample=1.0, tol=0.0001,\n",
              "                          validation_fraction=0.2, verbose=0, warm_start=False)"
            ]
          },
          "metadata": {},
          "execution_count": 46
        }
      ]
    },
    {
      "cell_type": "code",
      "metadata": {
        "colab": {
          "base_uri": "https://localhost:8080/"
        },
        "id": "XqWCYJtfgzqF",
        "outputId": "c1e1b5ae-2bd2-4dec-affd-460e6b257ef3"
      },
      "source": [
        "y3_pred = gbr_regr3.predict(xtest)\n",
        "print(\"y3 MSE:%.4f\" % mean_squared_error(y3test, y3_pred,squared=False))\n",
        "print(\"y3 MAE:%.4f\" % mean_absolute_error(y3test, y3_pred))"
      ],
      "execution_count": null,
      "outputs": [
        {
          "output_type": "stream",
          "name": "stdout",
          "text": [
            "y3 MSE:1.4111\n",
            "y3 MAE:1.0503\n"
          ]
        }
      ]
    },
    {
      "cell_type": "code",
      "metadata": {
        "id": "Lco1zpNEOKiX"
      },
      "source": [
        "LP = [i for i in range(180,241,2)]\n",
        "LT = [i for i in range(20,36)]\n",
        "SS = [i for i in range(500,800,20)]\n",
        "ec_ts_sr = []\n",
        "lp_lt_ss = []\n",
        "min_arr = []"
      ],
      "execution_count": null,
      "outputs": []
    },
    {
      "cell_type": "code",
      "metadata": {
        "id": "FQkOZ-BYOM7s"
      },
      "source": [
        "for lp in LP:\n",
        "  for lt in LT:\n",
        "    for ss in SS:\n",
        "      ec = ada_regr1.predict([[lp,lt,ss]])\n",
        "      ts = ada_regr2.predict([[lp,lt,ss]])\n",
        "      sr = ada_regr3.predict([[lp,lt,ss]])\n",
        "      ec_ts_sr_array = np.hstack((ec,ts,sr))\n",
        "      ec_ts_sr.append(ec_ts_sr_array)\n",
        "      lp_lt_ss.append([lp,lt,ss])\n",
        "      min_arr.append(arr_w(ec_ts_sr_array))"
      ],
      "execution_count": null,
      "outputs": []
    },
    {
      "cell_type": "code",
      "metadata": {
        "colab": {
          "base_uri": "https://localhost:8080/"
        },
        "id": "IeiouhYuOPvp",
        "outputId": "331dbd34-6f96-4d90-9c2c-9c384ed57830"
      },
      "source": [
        "min_arr = np.array(min_arr)\n",
        "print(lp_lt_ss[min_arr.argmin()])\n",
        "print(ec_ts_sr[min_arr.argmin()])"
      ],
      "execution_count": null,
      "outputs": [
        {
          "output_type": "stream",
          "name": "stdout",
          "text": [
            "[192, 23, 500]\n",
            "[  1.82816667 637.66666667   8.34      ]\n"
          ]
        }
      ]
    },
    {
      "cell_type": "markdown",
      "metadata": {
        "id": "VY8FGZ1cA-E7"
      },
      "source": [
        "# Lasso Regression"
      ]
    },
    {
      "cell_type": "code",
      "metadata": {
        "id": "i96s7cznLzR1"
      },
      "source": [
        "from sklearn import linear_model"
      ],
      "execution_count": null,
      "outputs": []
    },
    {
      "cell_type": "code",
      "metadata": {
        "colab": {
          "base_uri": "https://localhost:8080/"
        },
        "id": "Iz41g6p5L2Ru",
        "outputId": "e8bc5a14-6811-44f8-dec1-456e4866ef38"
      },
      "source": [
        "las_regr1 = linear_model.Lasso(alpha=0.001,max_iter=1000,random_state=1)\n",
        "las_regr1.fit(xtrain,y1train)"
      ],
      "execution_count": null,
      "outputs": [
        {
          "output_type": "execute_result",
          "data": {
            "text/plain": [
              "Lasso(alpha=0.001, copy_X=True, fit_intercept=True, max_iter=1000,\n",
              "      normalize=False, positive=False, precompute=False, random_state=1,\n",
              "      selection='cyclic', tol=0.0001, warm_start=False)"
            ]
          },
          "metadata": {},
          "execution_count": 52
        }
      ]
    },
    {
      "cell_type": "code",
      "metadata": {
        "colab": {
          "base_uri": "https://localhost:8080/"
        },
        "id": "ySHhtTFmMPJK",
        "outputId": "2cdcf7e9-8e5d-4c79-ab3f-1914624dbfff"
      },
      "source": [
        "y1_pred = las_regr1.predict(xtest)\n",
        "print(\"y1 MSE:%.4f\" % mean_squared_error(y1test, y1_pred,squared=False))\n",
        "print(\"y1 MAE:%.4f\" % mean_absolute_error(y1test, y1_pred))"
      ],
      "execution_count": null,
      "outputs": [
        {
          "output_type": "stream",
          "name": "stdout",
          "text": [
            "y1 MSE:0.2690\n",
            "y1 MAE:0.2363\n"
          ]
        }
      ]
    },
    {
      "cell_type": "code",
      "metadata": {
        "colab": {
          "base_uri": "https://localhost:8080/"
        },
        "id": "feIf2uS8Muxe",
        "outputId": "2ae13442-0876-463a-8876-40fa0d7c0b86"
      },
      "source": [
        "las_regr2 = linear_model.Lasso(alpha=15,max_iter=1000,random_state=1)\n",
        "las_regr2.fit(xtrain,y2train)"
      ],
      "execution_count": null,
      "outputs": [
        {
          "output_type": "execute_result",
          "data": {
            "text/plain": [
              "Lasso(alpha=15, copy_X=True, fit_intercept=True, max_iter=1000, normalize=False,\n",
              "      positive=False, precompute=False, random_state=1, selection='cyclic',\n",
              "      tol=0.0001, warm_start=False)"
            ]
          },
          "metadata": {},
          "execution_count": 54
        }
      ]
    },
    {
      "cell_type": "code",
      "metadata": {
        "colab": {
          "base_uri": "https://localhost:8080/"
        },
        "id": "hCtjexb7MzAV",
        "outputId": "29d46429-6d5a-401d-fab1-533bc91af8bf"
      },
      "source": [
        "y2_pred = las_regr2.predict(xtest)\n",
        "print(\"y2 MSE:%.4f\" % mean_squared_error(y2test, y2_pred,squared=False))\n",
        "print(\"y2 MAE:%.4f\" % mean_absolute_error(y2test, y2_pred))"
      ],
      "execution_count": null,
      "outputs": [
        {
          "output_type": "stream",
          "name": "stdout",
          "text": [
            "y2 MSE:15.8866\n",
            "y2 MAE:11.9446\n"
          ]
        }
      ]
    },
    {
      "cell_type": "code",
      "metadata": {
        "colab": {
          "base_uri": "https://localhost:8080/"
        },
        "id": "gSVB8ckSOB9X",
        "outputId": "40297ecc-75c4-4bd4-f29a-f243886dd1cc"
      },
      "source": [
        "las_regr3 = linear_model.Lasso(alpha=0.00001,max_iter=1000,random_state=1)\n",
        "las_regr3.fit(xtrain,y3train)"
      ],
      "execution_count": null,
      "outputs": [
        {
          "output_type": "execute_result",
          "data": {
            "text/plain": [
              "Lasso(alpha=1e-05, copy_X=True, fit_intercept=True, max_iter=1000,\n",
              "      normalize=False, positive=False, precompute=False, random_state=1,\n",
              "      selection='cyclic', tol=0.0001, warm_start=False)"
            ]
          },
          "metadata": {},
          "execution_count": 56
        }
      ]
    },
    {
      "cell_type": "code",
      "metadata": {
        "colab": {
          "base_uri": "https://localhost:8080/"
        },
        "id": "avcmMEWNOFyu",
        "outputId": "2ef3a33d-f3e4-4ab7-d0ed-43990666ae47"
      },
      "source": [
        "y3_pred = las_regr3.predict(xtest)\n",
        "print(\"y3 MSE:%.4f\" % mean_squared_error(y3test, y3_pred,squared=False))\n",
        "print(\"y3 MAE:%.4f\" % mean_absolute_error(y3test, y3_pred))"
      ],
      "execution_count": null,
      "outputs": [
        {
          "output_type": "stream",
          "name": "stdout",
          "text": [
            "y3 MSE:1.1624\n",
            "y3 MAE:0.6729\n"
          ]
        }
      ]
    },
    {
      "cell_type": "code",
      "metadata": {
        "id": "yzWlNkI-OQjC"
      },
      "source": [
        "LP = [i for i in range(180,241,2)]\n",
        "LT = [i for i in range(20,36)]\n",
        "SS = [i for i in range(500,800,20)]\n",
        "ec_ts_sr = []\n",
        "lp_lt_ss = []\n",
        "min_arr = []"
      ],
      "execution_count": null,
      "outputs": []
    },
    {
      "cell_type": "code",
      "metadata": {
        "id": "11yHEKGwOTR_"
      },
      "source": [
        "for lp in LP:\n",
        "  for lt in LT:\n",
        "    for ss in SS:\n",
        "      ec = ada_regr1.predict([[lp,lt,ss]])\n",
        "      ts = ada_regr2.predict([[lp,lt,ss]])\n",
        "      sr = ada_regr3.predict([[lp,lt,ss]])\n",
        "      ec_ts_sr_array = np.hstack((ec,ts,sr))\n",
        "      ec_ts_sr.append(ec_ts_sr_array)\n",
        "      lp_lt_ss.append([lp,lt,ss])\n",
        "      min_arr.append(arr_w(ec_ts_sr_array))"
      ],
      "execution_count": null,
      "outputs": []
    },
    {
      "cell_type": "code",
      "metadata": {
        "colab": {
          "base_uri": "https://localhost:8080/"
        },
        "id": "6XjeDfdKOUkp",
        "outputId": "2e79417e-e0c0-4f11-9e66-28f8f027aace"
      },
      "source": [
        "min_arr = np.array(min_arr)\n",
        "print(lp_lt_ss[min_arr.argmin()])\n",
        "print(ec_ts_sr[min_arr.argmin()])"
      ],
      "execution_count": null,
      "outputs": [
        {
          "output_type": "stream",
          "name": "stdout",
          "text": [
            "[192, 23, 500]\n",
            "[  1.82816667 637.66666667   8.34      ]\n"
          ]
        }
      ]
    },
    {
      "cell_type": "markdown",
      "metadata": {
        "id": "4mj_6B1ozqSm"
      },
      "source": [
        "# Lasso LARS Regression"
      ]
    },
    {
      "cell_type": "code",
      "metadata": {
        "id": "tkABfP04zoO0"
      },
      "source": [
        "from sklearn import linear_model"
      ],
      "execution_count": null,
      "outputs": []
    },
    {
      "cell_type": "code",
      "metadata": {
        "colab": {
          "base_uri": "https://localhost:8080/"
        },
        "id": "_GVLY2-mzpKL",
        "outputId": "e5c0b56f-7e5f-44e6-89cd-f0a7eb4de670"
      },
      "source": [
        "lars_regr1 = linear_model.LassoLars(alpha=0.06)\n",
        "lars_regr1.fit(xtrain,y1train)"
      ],
      "execution_count": null,
      "outputs": [
        {
          "output_type": "execute_result",
          "data": {
            "text/plain": [
              "LassoLars(alpha=0.06, copy_X=True, eps=2.220446049250313e-16,\n",
              "          fit_intercept=True, fit_path=True, max_iter=500, normalize=True,\n",
              "          positive=False, precompute='auto', verbose=False)"
            ]
          },
          "metadata": {},
          "execution_count": 103
        }
      ]
    },
    {
      "cell_type": "code",
      "metadata": {
        "colab": {
          "base_uri": "https://localhost:8080/"
        },
        "id": "YKXChzSQzxcX",
        "outputId": "a7daac8b-0b7b-4ead-d9e6-375fe1663fb0"
      },
      "source": [
        "y1_pred = lars_regr1.predict(xtest)\n",
        "print(\"y1 RMSE:%.4f\" % mean_squared_error(y1test, y1_pred,squared=False))\n",
        "print(\"y1 MAE:%.4f\" % mean_absolute_error(y1test, y1_pred))"
      ],
      "execution_count": null,
      "outputs": [
        {
          "output_type": "stream",
          "name": "stdout",
          "text": [
            "y1 RMSE:0.3127\n",
            "y1 MAE:0.2345\n"
          ]
        }
      ]
    },
    {
      "cell_type": "code",
      "metadata": {
        "colab": {
          "base_uri": "https://localhost:8080/"
        },
        "id": "_3itiuOyzzAJ",
        "outputId": "7a03e99a-6ba3-4064-f144-a34867e46b6e"
      },
      "source": [
        "lars_regr2 = linear_model.LassoLars(alpha=0.000001)\n",
        "lars_regr2.fit(xtrain,y2train)"
      ],
      "execution_count": null,
      "outputs": [
        {
          "output_type": "execute_result",
          "data": {
            "text/plain": [
              "LassoLars(alpha=1e-06, copy_X=True, eps=2.220446049250313e-16,\n",
              "          fit_intercept=True, fit_path=True, max_iter=500, normalize=True,\n",
              "          positive=False, precompute='auto', verbose=False)"
            ]
          },
          "metadata": {},
          "execution_count": 105
        }
      ]
    },
    {
      "cell_type": "code",
      "metadata": {
        "colab": {
          "base_uri": "https://localhost:8080/"
        },
        "id": "h1gZMe7vz0t-",
        "outputId": "5eee4d30-5a89-4b93-c512-b8c021f4b535"
      },
      "source": [
        "y2_pred = lars_regr2.predict(xtest)\n",
        "print(\"y2 RMSE:%.4f\" % mean_squared_error(y2test, y2_pred,squared=False))\n",
        "print(\"y2 MAE:%.4f\" % mean_absolute_error(y2test, y2_pred))"
      ],
      "execution_count": null,
      "outputs": [
        {
          "output_type": "stream",
          "name": "stdout",
          "text": [
            "y2 RMSE:16.5570\n",
            "y2 MAE:13.2844\n"
          ]
        }
      ]
    },
    {
      "cell_type": "code",
      "metadata": {
        "colab": {
          "base_uri": "https://localhost:8080/"
        },
        "id": "BPMl7a_Dz39Y",
        "outputId": "a167225b-3e33-4519-cf6f-772419332d92"
      },
      "source": [
        "lars_regr3 = linear_model.LassoLars(alpha=0.001)\n",
        "lars_regr3.fit(xtrain,y3train)"
      ],
      "execution_count": null,
      "outputs": [
        {
          "output_type": "execute_result",
          "data": {
            "text/plain": [
              "LassoLars(alpha=0.001, copy_X=True, eps=2.220446049250313e-16,\n",
              "          fit_intercept=True, fit_path=True, max_iter=500, normalize=True,\n",
              "          positive=False, precompute='auto', verbose=False)"
            ]
          },
          "metadata": {},
          "execution_count": 111
        }
      ]
    },
    {
      "cell_type": "code",
      "metadata": {
        "colab": {
          "base_uri": "https://localhost:8080/"
        },
        "id": "xf7wum7sz5nQ",
        "outputId": "e2241470-02e2-4c6c-90b4-9f8a5100298b"
      },
      "source": [
        "y3_pred = lars_regr3.predict(xtest)\n",
        "print(\"y3 RMSE:%.4f\" % mean_squared_error(y3test, y3_pred,squared=False))\n",
        "print(\"y3 MAE:%.4f\" % mean_absolute_error(y3test, y3_pred))"
      ],
      "execution_count": null,
      "outputs": [
        {
          "output_type": "stream",
          "name": "stdout",
          "text": [
            "y3 RMSE:1.1671\n",
            "y3 MAE:0.6786\n"
          ]
        }
      ]
    },
    {
      "cell_type": "markdown",
      "metadata": {
        "id": "zIpkqK-bOZ2m"
      },
      "source": [
        "# Properly Organized Train and Test"
      ]
    },
    {
      "cell_type": "code",
      "metadata": {
        "id": "hqFQL1UuXcwF"
      },
      "source": [
        "#Creating Variable Array\n",
        "X11 = np.array(df[0][0:16])\n",
        "X21 = np.array(df[1][0:16])\n",
        "X31 = np.array(df[2][0:16])\n",
        "y11 = np.array(df[3][0:16])\n",
        "y21 = np.array(df[4][0:16])\n",
        "y31 = np.array(df[5][0:16])\n",
        "\n",
        "#Reshaping the array\n",
        "X11 = X11.reshape(16,1)\n",
        "X21 = X21.reshape(16,1)\n",
        "X31 = X31.reshape(16,1)\n",
        "y11 = y11.reshape(16,1)\n",
        "y21 = y21.reshape(16,1)\n",
        "y31 = y31.reshape(16,1)\n",
        "\n",
        "#\n",
        "X_train = np.hstack((X11, X21, X31))\n",
        "\n",
        "y_train = np.hstack((y11,y21,y31))\n"
      ],
      "execution_count": null,
      "outputs": []
    },
    {
      "cell_type": "code",
      "metadata": {
        "id": "tljVnwUQYOas"
      },
      "source": [
        "#Creating Variable Array\n",
        "X12 = np.array(df[0][16:21])\n",
        "X22 = np.array(df[1][16:21])\n",
        "X32 = np.array(df[2][16:21])\n",
        "y12 = np.array(df[3][16:21])\n",
        "y22 = np.array(df[4][16:21])\n",
        "y32 = np.array(df[5][16:21])\n",
        "\n",
        "#Reshaping the array\n",
        "X12 = X12.reshape(5,1)\n",
        "X22 = X22.reshape(5,1)\n",
        "X32 = X32.reshape(5,1)\n",
        "y12 = y12.reshape(5,1)\n",
        "y22 = y22.reshape(5,1)\n",
        "y32 = y32.reshape(5,1)\n",
        "\n",
        "#\n",
        "X_test = np.hstack((X12, X22, X32))\n",
        "y_test = np.hstack((y12,y22,y32))"
      ],
      "execution_count": null,
      "outputs": []
    },
    {
      "cell_type": "code",
      "metadata": {
        "id": "nyTtVT06ZUpM"
      },
      "source": [
        "from sklearn import linear_model"
      ],
      "execution_count": null,
      "outputs": []
    },
    {
      "cell_type": "code",
      "metadata": {
        "colab": {
          "base_uri": "https://localhost:8080/"
        },
        "id": "ePiaA1n8ZXD9",
        "outputId": "88da7847-1de6-4002-b5b8-b6a3372f37bc"
      },
      "source": [
        "las_regr1 = linear_model.Lasso(alpha=1,max_iter=1000,random_state=1)\n",
        "las_regr1.fit(X_train,y11)"
      ],
      "execution_count": null,
      "outputs": [
        {
          "output_type": "execute_result",
          "data": {
            "text/plain": [
              "Lasso(alpha=1, copy_X=True, fit_intercept=True, max_iter=1000, normalize=False,\n",
              "      positive=False, precompute=False, random_state=1, selection='cyclic',\n",
              "      tol=0.0001, warm_start=False)"
            ]
          },
          "metadata": {},
          "execution_count": 64
        }
      ]
    },
    {
      "cell_type": "code",
      "metadata": {
        "colab": {
          "base_uri": "https://localhost:8080/"
        },
        "id": "Pve1zON_ZhXj",
        "outputId": "a1928b30-0e86-437b-e5ce-680a93352be7"
      },
      "source": [
        "y1_pred = las_regr1.predict(X_test)\n",
        "print(\"y1 MSE:%.4f\" % mean_squared_error(y12, y1_pred,squared=False))\n",
        "print(\"y1 MAE:%.4f\" % mean_absolute_error(y12, y1_pred))"
      ],
      "execution_count": null,
      "outputs": [
        {
          "output_type": "stream",
          "name": "stdout",
          "text": [
            "y1 MSE:0.2340\n",
            "y1 MAE:0.2189\n"
          ]
        }
      ]
    },
    {
      "cell_type": "code",
      "metadata": {
        "colab": {
          "base_uri": "https://localhost:8080/"
        },
        "id": "6lGIzZmlZz2g",
        "outputId": "e081587c-545d-4768-9d76-e56f169783e4"
      },
      "source": [
        "las_regr2 = linear_model.Lasso(alpha=0.01,max_iter=2,random_state=1,selection='random')\n",
        "las_regr2.fit(X_train,y21)"
      ],
      "execution_count": null,
      "outputs": [
        {
          "output_type": "execute_result",
          "data": {
            "text/plain": [
              "Lasso(alpha=0.01, copy_X=True, fit_intercept=True, max_iter=2, normalize=False,\n",
              "      positive=False, precompute=False, random_state=1, selection='random',\n",
              "      tol=0.0001, warm_start=False)"
            ]
          },
          "metadata": {},
          "execution_count": 66
        }
      ]
    },
    {
      "cell_type": "code",
      "metadata": {
        "colab": {
          "base_uri": "https://localhost:8080/"
        },
        "id": "ng6Rf0paZ8Uv",
        "outputId": "4749ab32-e567-4fe1-9e57-f2c57643a43c"
      },
      "source": [
        "y2_pred = las_regr2.predict(X_test)\n",
        "print(\"y2 MSE:%.4f\" % mean_squared_error(y22, y2_pred,squared=False))\n",
        "print(\"y2 MAE:%.4f\" % mean_absolute_error(y22, y2_pred))"
      ],
      "execution_count": null,
      "outputs": [
        {
          "output_type": "stream",
          "name": "stdout",
          "text": [
            "y2 MSE:24.6253\n",
            "y2 MAE:17.7818\n"
          ]
        }
      ]
    },
    {
      "cell_type": "code",
      "metadata": {
        "colab": {
          "base_uri": "https://localhost:8080/"
        },
        "id": "c-svK2mjbCOC",
        "outputId": "80db9550-4aba-4695-db39-13cddd77cd02"
      },
      "source": [
        "las_regr3 = linear_model.Lasso(alpha=1,max_iter=1000,random_state=1)\n",
        "las_regr3.fit(X_train,y31)"
      ],
      "execution_count": null,
      "outputs": [
        {
          "output_type": "execute_result",
          "data": {
            "text/plain": [
              "Lasso(alpha=1, copy_X=True, fit_intercept=True, max_iter=1000, normalize=False,\n",
              "      positive=False, precompute=False, random_state=1, selection='cyclic',\n",
              "      tol=0.0001, warm_start=False)"
            ]
          },
          "metadata": {},
          "execution_count": 68
        }
      ]
    },
    {
      "cell_type": "code",
      "metadata": {
        "colab": {
          "base_uri": "https://localhost:8080/"
        },
        "id": "MHXkdn9SbFbp",
        "outputId": "a1953629-f1d2-4fb0-840e-e397010d280f"
      },
      "source": [
        "y3_pred = las_regr3.predict(X_test)\n",
        "print(\"y2 MSE:%.4f\" % mean_squared_error(y32, y3_pred,squared=False))\n",
        "print(\"y2 MAE:%.4f\" % mean_absolute_error(y32, y3_pred))"
      ],
      "execution_count": null,
      "outputs": [
        {
          "output_type": "stream",
          "name": "stdout",
          "text": [
            "y2 MSE:0.4717\n",
            "y2 MAE:0.3230\n"
          ]
        }
      ]
    },
    {
      "cell_type": "markdown",
      "metadata": {
        "id": "l99i4nGbbriE"
      },
      "source": [
        "# Random Forest Regression New Data"
      ]
    },
    {
      "cell_type": "code",
      "metadata": {
        "colab": {
          "base_uri": "https://localhost:8080/"
        },
        "id": "DsR75lD6bvRU",
        "outputId": "1dace187-bead-4661-cdea-6952ab0de3ba"
      },
      "source": [
        "regr1 = RandomForestRegressor(max_depth=2, random_state=1, n_estimators= 10)\n",
        "regr1.fit(X_train,y11)"
      ],
      "execution_count": null,
      "outputs": [
        {
          "output_type": "stream",
          "name": "stderr",
          "text": [
            "/usr/local/lib/python3.7/dist-packages/ipykernel_launcher.py:2: DataConversionWarning: A column-vector y was passed when a 1d array was expected. Please change the shape of y to (n_samples,), for example using ravel().\n",
            "  \n"
          ]
        },
        {
          "output_type": "execute_result",
          "data": {
            "text/plain": [
              "RandomForestRegressor(bootstrap=True, ccp_alpha=0.0, criterion='mse',\n",
              "                      max_depth=2, max_features='auto', max_leaf_nodes=None,\n",
              "                      max_samples=None, min_impurity_decrease=0.0,\n",
              "                      min_impurity_split=None, min_samples_leaf=1,\n",
              "                      min_samples_split=2, min_weight_fraction_leaf=0.0,\n",
              "                      n_estimators=10, n_jobs=None, oob_score=False,\n",
              "                      random_state=1, verbose=0, warm_start=False)"
            ]
          },
          "metadata": {},
          "execution_count": 70
        }
      ]
    },
    {
      "cell_type": "code",
      "metadata": {
        "colab": {
          "base_uri": "https://localhost:8080/"
        },
        "id": "YpQ_-zEYb7SE",
        "outputId": "eb4320e8-4c6f-43c7-cd00-060a48a91a2c"
      },
      "source": [
        "y1_pred = regr1.predict(X_test)\n",
        "print(\"y1 MSE:%.4f\" % mean_squared_error(y12, y1_pred,squared=False))\n",
        "print(\"y1 MAE:%.4f\" % mean_absolute_error(y12, y1_pred))"
      ],
      "execution_count": null,
      "outputs": [
        {
          "output_type": "stream",
          "name": "stdout",
          "text": [
            "y1 MSE:0.2649\n",
            "y1 MAE:0.1982\n"
          ]
        }
      ]
    },
    {
      "cell_type": "code",
      "metadata": {
        "colab": {
          "base_uri": "https://localhost:8080/"
        },
        "id": "ktMr_QXNeNis",
        "outputId": "6e707658-240f-46c8-98bd-88883303bc03"
      },
      "source": [
        "regr2 = RandomForestRegressor(max_depth=1, random_state=0, n_estimators= 9)\n",
        "regr2.fit(X_train,y21)"
      ],
      "execution_count": null,
      "outputs": [
        {
          "output_type": "stream",
          "name": "stderr",
          "text": [
            "/usr/local/lib/python3.7/dist-packages/ipykernel_launcher.py:2: DataConversionWarning: A column-vector y was passed when a 1d array was expected. Please change the shape of y to (n_samples,), for example using ravel().\n",
            "  \n"
          ]
        },
        {
          "output_type": "execute_result",
          "data": {
            "text/plain": [
              "RandomForestRegressor(bootstrap=True, ccp_alpha=0.0, criterion='mse',\n",
              "                      max_depth=1, max_features='auto', max_leaf_nodes=None,\n",
              "                      max_samples=None, min_impurity_decrease=0.0,\n",
              "                      min_impurity_split=None, min_samples_leaf=1,\n",
              "                      min_samples_split=2, min_weight_fraction_leaf=0.0,\n",
              "                      n_estimators=9, n_jobs=None, oob_score=False,\n",
              "                      random_state=0, verbose=0, warm_start=False)"
            ]
          },
          "metadata": {},
          "execution_count": 72
        }
      ]
    },
    {
      "cell_type": "code",
      "metadata": {
        "colab": {
          "base_uri": "https://localhost:8080/"
        },
        "id": "uN68AxKeeRBd",
        "outputId": "4379a60c-0521-452e-e185-3bbafcaee01a"
      },
      "source": [
        "y2_pred = regr2.predict(X_test)\n",
        "print(\"y1 MSE:%.4f\" % mean_squared_error(y22, y2_pred,squared=False))\n",
        "print(\"y1 MAE:%.4f\" % mean_absolute_error(y22, y2_pred))"
      ],
      "execution_count": null,
      "outputs": [
        {
          "output_type": "stream",
          "name": "stdout",
          "text": [
            "y1 MSE:24.3650\n",
            "y1 MAE:17.2048\n"
          ]
        }
      ]
    },
    {
      "cell_type": "code",
      "metadata": {
        "colab": {
          "base_uri": "https://localhost:8080/"
        },
        "id": "PeCDmhpVfnf2",
        "outputId": "303aa9dc-deeb-40ba-c68e-d3008b061980"
      },
      "source": [
        "regr3 = RandomForestRegressor(max_depth=2, random_state=1, n_estimators= 9)\n",
        "regr3.fit(X_train,y31)"
      ],
      "execution_count": null,
      "outputs": [
        {
          "output_type": "stream",
          "name": "stderr",
          "text": [
            "/usr/local/lib/python3.7/dist-packages/ipykernel_launcher.py:2: DataConversionWarning: A column-vector y was passed when a 1d array was expected. Please change the shape of y to (n_samples,), for example using ravel().\n",
            "  \n"
          ]
        },
        {
          "output_type": "execute_result",
          "data": {
            "text/plain": [
              "RandomForestRegressor(bootstrap=True, ccp_alpha=0.0, criterion='mse',\n",
              "                      max_depth=2, max_features='auto', max_leaf_nodes=None,\n",
              "                      max_samples=None, min_impurity_decrease=0.0,\n",
              "                      min_impurity_split=None, min_samples_leaf=1,\n",
              "                      min_samples_split=2, min_weight_fraction_leaf=0.0,\n",
              "                      n_estimators=9, n_jobs=None, oob_score=False,\n",
              "                      random_state=1, verbose=0, warm_start=False)"
            ]
          },
          "metadata": {},
          "execution_count": 74
        }
      ]
    },
    {
      "cell_type": "code",
      "metadata": {
        "colab": {
          "base_uri": "https://localhost:8080/"
        },
        "id": "bNA_7TRUfq_n",
        "outputId": "c5289978-be85-4213-cdf6-40c4f27236e8"
      },
      "source": [
        "y3_pred = regr3.predict(X_test)\n",
        "print(\"y1 MSE:%.4f\" % mean_squared_error(y32, y3_pred,squared=False))\n",
        "print(\"y1 MAE:%.4f\" % mean_absolute_error(y32, y3_pred))"
      ],
      "execution_count": null,
      "outputs": [
        {
          "output_type": "stream",
          "name": "stdout",
          "text": [
            "y1 MSE:0.7374\n",
            "y1 MAE:0.6931\n"
          ]
        }
      ]
    },
    {
      "cell_type": "markdown",
      "metadata": {
        "id": "jU30jQ7NiUuq"
      },
      "source": [
        "# Adaboost Regression New Data"
      ]
    },
    {
      "cell_type": "code",
      "metadata": {
        "id": "4AFJHNlfiTmw"
      },
      "source": [
        "from sklearn.ensemble import AdaBoostRegressor"
      ],
      "execution_count": null,
      "outputs": []
    },
    {
      "cell_type": "code",
      "metadata": {
        "colab": {
          "base_uri": "https://localhost:8080/"
        },
        "id": "rqSqBPQtinUw",
        "outputId": "9746d255-ca55-4eb1-f4de-3f225cc89af9"
      },
      "source": [
        "ada_regr1 = AdaBoostRegressor(random_state=2, n_estimators=11,learning_rate=0.6)\n",
        "ada_regr1.fit(X_train,y11)"
      ],
      "execution_count": null,
      "outputs": [
        {
          "output_type": "stream",
          "name": "stderr",
          "text": [
            "/usr/local/lib/python3.7/dist-packages/sklearn/utils/validation.py:760: DataConversionWarning: A column-vector y was passed when a 1d array was expected. Please change the shape of y to (n_samples, ), for example using ravel().\n",
            "  y = column_or_1d(y, warn=True)\n"
          ]
        },
        {
          "output_type": "execute_result",
          "data": {
            "text/plain": [
              "AdaBoostRegressor(base_estimator=None, learning_rate=0.6, loss='linear',\n",
              "                  n_estimators=11, random_state=2)"
            ]
          },
          "metadata": {},
          "execution_count": 77
        }
      ]
    },
    {
      "cell_type": "code",
      "metadata": {
        "colab": {
          "base_uri": "https://localhost:8080/"
        },
        "id": "4-F3bKdtisHc",
        "outputId": "51381768-265e-4e2a-ee2d-250ff9073a84"
      },
      "source": [
        "y1_pred = ada_regr1.predict(X_test)\n",
        "print(\"y1 MSE:%.4f\" % mean_squared_error(y12, y1_pred,squared=False))\n",
        "print(\"y1 MAE:%.4f\" % mean_absolute_error(y12, y1_pred))"
      ],
      "execution_count": null,
      "outputs": [
        {
          "output_type": "stream",
          "name": "stdout",
          "text": [
            "y1 MSE:0.5192\n",
            "y1 MAE:0.3195\n"
          ]
        }
      ]
    },
    {
      "cell_type": "code",
      "metadata": {
        "colab": {
          "base_uri": "https://localhost:8080/"
        },
        "id": "-mZR942WkbtB",
        "outputId": "728312f5-2a91-48af-9d94-8b99b865a842"
      },
      "source": [
        "ada_regr2 = AdaBoostRegressor(random_state=1, n_estimators=11,learning_rate=1e-5,loss='exponential')\n",
        "ada_regr2.fit(X_train,y21)"
      ],
      "execution_count": null,
      "outputs": [
        {
          "output_type": "stream",
          "name": "stderr",
          "text": [
            "/usr/local/lib/python3.7/dist-packages/sklearn/utils/validation.py:760: DataConversionWarning: A column-vector y was passed when a 1d array was expected. Please change the shape of y to (n_samples, ), for example using ravel().\n",
            "  y = column_or_1d(y, warn=True)\n"
          ]
        },
        {
          "output_type": "execute_result",
          "data": {
            "text/plain": [
              "AdaBoostRegressor(base_estimator=None, learning_rate=1e-05, loss='exponential',\n",
              "                  n_estimators=11, random_state=1)"
            ]
          },
          "metadata": {},
          "execution_count": 79
        }
      ]
    },
    {
      "cell_type": "code",
      "metadata": {
        "colab": {
          "base_uri": "https://localhost:8080/"
        },
        "id": "JvLajulWklqW",
        "outputId": "ccc2963b-a055-405e-96d0-bd182dec5233"
      },
      "source": [
        "y2_pred = ada_regr2.predict(X_test)\n",
        "print(\"y2 MSE:%.4f\" % mean_squared_error(y22, y2_pred,squared=False))\n",
        "print(\"y2 MAE:%.4f\" % mean_absolute_error(y22, y2_pred))"
      ],
      "execution_count": null,
      "outputs": [
        {
          "output_type": "stream",
          "name": "stdout",
          "text": [
            "y2 MSE:23.1168\n",
            "y2 MAE:18.6571\n"
          ]
        }
      ]
    },
    {
      "cell_type": "code",
      "metadata": {
        "colab": {
          "base_uri": "https://localhost:8080/"
        },
        "id": "EeeSLoRTlS38",
        "outputId": "fb45da4a-d78c-46fe-af7e-7d0d964222be"
      },
      "source": [
        "ada_regr3 = AdaBoostRegressor(random_state=1, n_estimators=6,learning_rate=1e-5,loss='exponential')\n",
        "ada_regr3.fit(X_train,y31)"
      ],
      "execution_count": null,
      "outputs": [
        {
          "output_type": "stream",
          "name": "stderr",
          "text": [
            "/usr/local/lib/python3.7/dist-packages/sklearn/utils/validation.py:760: DataConversionWarning: A column-vector y was passed when a 1d array was expected. Please change the shape of y to (n_samples, ), for example using ravel().\n",
            "  y = column_or_1d(y, warn=True)\n"
          ]
        },
        {
          "output_type": "execute_result",
          "data": {
            "text/plain": [
              "AdaBoostRegressor(base_estimator=None, learning_rate=1e-05, loss='exponential',\n",
              "                  n_estimators=6, random_state=1)"
            ]
          },
          "metadata": {},
          "execution_count": 81
        }
      ]
    },
    {
      "cell_type": "code",
      "metadata": {
        "colab": {
          "base_uri": "https://localhost:8080/"
        },
        "id": "_9004dYGlYeR",
        "outputId": "fc7369dd-beb9-433a-93bd-4f2e9168dd1e"
      },
      "source": [
        "y3_pred = ada_regr3.predict(X_test)\n",
        "print(\"y3 MSE:%.4f\" % mean_squared_error(y32, y3_pred,squared=False))\n",
        "print(\"y3 MAE:%.4f\" % mean_absolute_error(y32, y3_pred))"
      ],
      "execution_count": null,
      "outputs": [
        {
          "output_type": "stream",
          "name": "stdout",
          "text": [
            "y3 MSE:0.6755\n",
            "y3 MAE:0.5273\n"
          ]
        }
      ]
    },
    {
      "cell_type": "markdown",
      "metadata": {
        "id": "HF01sagEmA-c"
      },
      "source": [
        "# GradientBoostingRegressor New Data"
      ]
    },
    {
      "cell_type": "code",
      "metadata": {
        "id": "RlIawj2hmFMm"
      },
      "source": [
        "from sklearn.ensemble import GradientBoostingRegressor"
      ],
      "execution_count": null,
      "outputs": []
    },
    {
      "cell_type": "code",
      "metadata": {
        "colab": {
          "base_uri": "https://localhost:8080/"
        },
        "id": "F23pyfWDmIxW",
        "outputId": "bbb4e6d5-951d-4b95-8d18-d5a3c23932c9"
      },
      "source": [
        "gbr_regr1 = GradientBoostingRegressor(random_state=0,learning_rate=0.1,loss='huber',n_estimators=80,max_features=3)\n",
        "gbr_regr1.fit(X_train,y11)"
      ],
      "execution_count": null,
      "outputs": [
        {
          "output_type": "stream",
          "name": "stderr",
          "text": [
            "/usr/local/lib/python3.7/dist-packages/sklearn/ensemble/_gb.py:1454: DataConversionWarning: A column-vector y was passed when a 1d array was expected. Please change the shape of y to (n_samples, ), for example using ravel().\n",
            "  y = column_or_1d(y, warn=True)\n"
          ]
        },
        {
          "output_type": "execute_result",
          "data": {
            "text/plain": [
              "GradientBoostingRegressor(alpha=0.9, ccp_alpha=0.0, criterion='friedman_mse',\n",
              "                          init=None, learning_rate=0.1, loss='huber',\n",
              "                          max_depth=3, max_features=3, max_leaf_nodes=None,\n",
              "                          min_impurity_decrease=0.0, min_impurity_split=None,\n",
              "                          min_samples_leaf=1, min_samples_split=2,\n",
              "                          min_weight_fraction_leaf=0.0, n_estimators=80,\n",
              "                          n_iter_no_change=None, presort='deprecated',\n",
              "                          random_state=0, subsample=1.0, tol=0.0001,\n",
              "                          validation_fraction=0.1, verbose=0, warm_start=False)"
            ]
          },
          "metadata": {},
          "execution_count": 84
        }
      ]
    },
    {
      "cell_type": "code",
      "metadata": {
        "colab": {
          "base_uri": "https://localhost:8080/"
        },
        "id": "7iup4o_XmMeG",
        "outputId": "4e505065-3a6b-45b9-d8be-8fb92e8d59dc"
      },
      "source": [
        "y1_pred = gbr_regr1.predict(X_test)\n",
        "print(\"y1 RMSE:%.4f\" % mean_squared_error(y12, y1_pred,squared=False))\n",
        "print(\"y1 MAE:%.4f\" % mean_absolute_error(y12, y1_pred))"
      ],
      "execution_count": null,
      "outputs": [
        {
          "output_type": "stream",
          "name": "stdout",
          "text": [
            "y1 RMSE:0.5150\n",
            "y1 MAE:0.3367\n"
          ]
        }
      ]
    },
    {
      "cell_type": "code",
      "metadata": {
        "colab": {
          "base_uri": "https://localhost:8080/"
        },
        "id": "wUGv0T27oL32",
        "outputId": "8d30f4d2-649d-4712-ab4b-54c2be286e1b"
      },
      "source": [
        "gbr_regr2 = GradientBoostingRegressor(random_state=0,learning_rate=0.9,loss='huber',max_depth=3,validation_fraction=0.5,tol=1e-5,n_estimators=4)\n",
        "gbr_regr2.fit(X_train,y21)"
      ],
      "execution_count": null,
      "outputs": [
        {
          "output_type": "stream",
          "name": "stderr",
          "text": [
            "/usr/local/lib/python3.7/dist-packages/sklearn/ensemble/_gb.py:1454: DataConversionWarning: A column-vector y was passed when a 1d array was expected. Please change the shape of y to (n_samples, ), for example using ravel().\n",
            "  y = column_or_1d(y, warn=True)\n"
          ]
        },
        {
          "output_type": "execute_result",
          "data": {
            "text/plain": [
              "GradientBoostingRegressor(alpha=0.9, ccp_alpha=0.0, criterion='friedman_mse',\n",
              "                          init=None, learning_rate=0.9, loss='huber',\n",
              "                          max_depth=3, max_features=None, max_leaf_nodes=None,\n",
              "                          min_impurity_decrease=0.0, min_impurity_split=None,\n",
              "                          min_samples_leaf=1, min_samples_split=2,\n",
              "                          min_weight_fraction_leaf=0.0, n_estimators=4,\n",
              "                          n_iter_no_change=None, presort='deprecated',\n",
              "                          random_state=0, subsample=1.0, tol=1e-05,\n",
              "                          validation_fraction=0.5, verbose=0, warm_start=False)"
            ]
          },
          "metadata": {},
          "execution_count": 86
        }
      ]
    },
    {
      "cell_type": "code",
      "metadata": {
        "colab": {
          "base_uri": "https://localhost:8080/"
        },
        "id": "Y9hi2b4ZoS0t",
        "outputId": "983446bf-87f6-4b25-d137-1fd2779b6b73"
      },
      "source": [
        "y2_pred = gbr_regr2.predict(X_test)\n",
        "print(\"y2 RMSE:%.4f\" % mean_squared_error(y22, y2_pred,squared=False))\n",
        "print(\"y2 MAE:%.4f\" % mean_absolute_error(y22, y2_pred))"
      ],
      "execution_count": null,
      "outputs": [
        {
          "output_type": "stream",
          "name": "stdout",
          "text": [
            "y2 RMSE:21.1693\n",
            "y2 MAE:19.6632\n"
          ]
        }
      ]
    },
    {
      "cell_type": "code",
      "metadata": {
        "colab": {
          "base_uri": "https://localhost:8080/"
        },
        "id": "nd7ei3pm3y_x",
        "outputId": "44b15737-e2c9-40f6-dd92-eb47cf3e0d07"
      },
      "source": [
        "gbr_regr3 = GradientBoostingRegressor(random_state=0,learning_rate=0.15,loss='huber',max_depth=2,validation_fraction=0.2,n_estimators=11)\n",
        "gbr_regr3.fit(X_train,y31)"
      ],
      "execution_count": null,
      "outputs": [
        {
          "output_type": "stream",
          "name": "stderr",
          "text": [
            "/usr/local/lib/python3.7/dist-packages/sklearn/ensemble/_gb.py:1454: DataConversionWarning: A column-vector y was passed when a 1d array was expected. Please change the shape of y to (n_samples, ), for example using ravel().\n",
            "  y = column_or_1d(y, warn=True)\n"
          ]
        },
        {
          "output_type": "execute_result",
          "data": {
            "text/plain": [
              "GradientBoostingRegressor(alpha=0.9, ccp_alpha=0.0, criterion='friedman_mse',\n",
              "                          init=None, learning_rate=0.15, loss='huber',\n",
              "                          max_depth=2, max_features=None, max_leaf_nodes=None,\n",
              "                          min_impurity_decrease=0.0, min_impurity_split=None,\n",
              "                          min_samples_leaf=1, min_samples_split=2,\n",
              "                          min_weight_fraction_leaf=0.0, n_estimators=11,\n",
              "                          n_iter_no_change=None, presort='deprecated',\n",
              "                          random_state=0, subsample=1.0, tol=0.0001,\n",
              "                          validation_fraction=0.2, verbose=0, warm_start=False)"
            ]
          },
          "metadata": {},
          "execution_count": 88
        }
      ]
    },
    {
      "cell_type": "code",
      "metadata": {
        "colab": {
          "base_uri": "https://localhost:8080/"
        },
        "id": "yfrA81RY33bl",
        "outputId": "03ebf5be-f8ef-4335-b6ee-1e35651a73bf"
      },
      "source": [
        "y3_pred = gbr_regr3.predict(X_test)\n",
        "print(\"y3 RMSE:%.4f\" % mean_squared_error(y32, y3_pred,squared=False))\n",
        "print(\"y3 MAE:%.4f\" % mean_absolute_error(y32, y3_pred))"
      ],
      "execution_count": null,
      "outputs": [
        {
          "output_type": "stream",
          "name": "stdout",
          "text": [
            "y3 RMSE:0.5221\n",
            "y3 MAE:0.4040\n"
          ]
        }
      ]
    },
    {
      "cell_type": "markdown",
      "metadata": {
        "id": "ot_cCh0ghXmu"
      },
      "source": [
        "# Lasso LARS Regression"
      ]
    },
    {
      "cell_type": "code",
      "metadata": {
        "id": "-JSngY5GhaUW"
      },
      "source": [
        "from sklearn import linear_model"
      ],
      "execution_count": null,
      "outputs": []
    },
    {
      "cell_type": "code",
      "metadata": {
        "colab": {
          "base_uri": "https://localhost:8080/"
        },
        "id": "wFJK50vthiz2",
        "outputId": "ed45dd32-1e80-4f93-9aa6-b8c2bda093f6"
      },
      "source": [
        "lars_regr1 = linear_model.LassoLars(alpha=0.06)\n",
        "lars_regr1.fit(X_train,y11)"
      ],
      "execution_count": null,
      "outputs": [
        {
          "output_type": "execute_result",
          "data": {
            "text/plain": [
              "LassoLars(alpha=0.06, copy_X=True, eps=2.220446049250313e-16,\n",
              "          fit_intercept=True, fit_path=True, max_iter=500, normalize=True,\n",
              "          positive=False, precompute='auto', verbose=False)"
            ]
          },
          "metadata": {},
          "execution_count": 91
        }
      ]
    },
    {
      "cell_type": "code",
      "metadata": {
        "colab": {
          "base_uri": "https://localhost:8080/"
        },
        "id": "knH_9oYuhw09",
        "outputId": "77995778-5962-40bc-f7f1-270b10fcca03"
      },
      "source": [
        "y1_pred = lars_regr1.predict(X_test)\n",
        "print(\"y1 RMSE:%.4f\" % mean_squared_error(y12, y1_pred,squared=False))\n",
        "print(\"y1 MAE:%.4f\" % mean_absolute_error(y12, y1_pred))"
      ],
      "execution_count": null,
      "outputs": [
        {
          "output_type": "stream",
          "name": "stdout",
          "text": [
            "y1 RMSE:0.2277\n",
            "y1 MAE:0.2053\n"
          ]
        }
      ]
    },
    {
      "cell_type": "code",
      "metadata": {
        "colab": {
          "base_uri": "https://localhost:8080/"
        },
        "id": "02WOm1zjl6__",
        "outputId": "9dd127a9-fa1c-4346-96ad-f1516c41f527"
      },
      "source": [
        "lars_regr2 = linear_model.LassoLars(alpha=0.000001)\n",
        "lars_regr2.fit(X_train,y21)"
      ],
      "execution_count": null,
      "outputs": [
        {
          "output_type": "execute_result",
          "data": {
            "text/plain": [
              "LassoLars(alpha=1e-06, copy_X=True, eps=2.220446049250313e-16,\n",
              "          fit_intercept=True, fit_path=True, max_iter=500, normalize=True,\n",
              "          positive=False, precompute='auto', verbose=False)"
            ]
          },
          "metadata": {},
          "execution_count": 93
        }
      ]
    },
    {
      "cell_type": "code",
      "metadata": {
        "colab": {
          "base_uri": "https://localhost:8080/"
        },
        "id": "XIw-ejKHl_hW",
        "outputId": "021a7dfd-c843-4812-8512-a1fdadc4949a"
      },
      "source": [
        "y2_pred = lars_regr2.predict(X_test)\n",
        "print(\"y2 RMSE:%.4f\" % mean_squared_error(y22, y2_pred,squared=False))\n",
        "print(\"y2 MAE:%.4f\" % mean_absolute_error(y22, y2_pred))"
      ],
      "execution_count": null,
      "outputs": [
        {
          "output_type": "stream",
          "name": "stdout",
          "text": [
            "y2 RMSE:24.6241\n",
            "y2 MAE:17.7810\n"
          ]
        }
      ]
    },
    {
      "cell_type": "code",
      "metadata": {
        "colab": {
          "base_uri": "https://localhost:8080/"
        },
        "id": "EDPGhRAymbFr",
        "outputId": "2d578cbc-3bc8-4522-f433-15b2cd943767"
      },
      "source": [
        "lars_regr3 = linear_model.LassoLars(alpha=0.1)\n",
        "lars_regr3.fit(X_train,y31)"
      ],
      "execution_count": null,
      "outputs": [
        {
          "output_type": "execute_result",
          "data": {
            "text/plain": [
              "LassoLars(alpha=0.1, copy_X=True, eps=2.220446049250313e-16, fit_intercept=True,\n",
              "          fit_path=True, max_iter=500, normalize=True, positive=False,\n",
              "          precompute='auto', verbose=False)"
            ]
          },
          "metadata": {},
          "execution_count": 95
        }
      ]
    },
    {
      "cell_type": "code",
      "metadata": {
        "colab": {
          "base_uri": "https://localhost:8080/"
        },
        "id": "rwDtbdxKmd70",
        "outputId": "6a1d12aa-416b-4daa-e691-97f7158d5098"
      },
      "source": [
        "y3_pred = lars_regr3.predict(X_test)\n",
        "print(\"y3 RMSE:%.4f\" % mean_squared_error(y32, y3_pred,squared=False))\n",
        "print(\"y3 MAE:%.4f\" % mean_absolute_error(y32, y3_pred))"
      ],
      "execution_count": null,
      "outputs": [
        {
          "output_type": "stream",
          "name": "stdout",
          "text": [
            "y3 RMSE:0.4145\n",
            "y3 MAE:0.2788\n"
          ]
        }
      ]
    },
    {
      "cell_type": "code",
      "metadata": {
        "id": "8th88y7UsbIs"
      },
      "source": [
        "LP = [i for i in range(180,241,2)]\n",
        "LT = [i for i in range(20,36)]\n",
        "SS = [i for i in range(500,800,20)]\n",
        "ec_ts_sr = []\n",
        "lp_lt_ss = []\n",
        "min_arr = []"
      ],
      "execution_count": null,
      "outputs": []
    },
    {
      "cell_type": "code",
      "metadata": {
        "id": "h2GhoJTVsd9j"
      },
      "source": [
        "for lp in LP:\n",
        "  for lt in LT:\n",
        "    for ss in SS:\n",
        "      ec = regr1.predict([[lp,lt,ss]])\n",
        "      ts = regr2.predict([[lp,lt,ss]])\n",
        "      sr = regr3.predict([[lp,lt,ss]])\n",
        "      ec_ts_sr_array = np.hstack((ec,ts,sr))\n",
        "      ec_ts_sr.append(ec_ts_sr_array)\n",
        "      lp_lt_ss.append([lp,lt,ss])\n",
        "      min_arr.append(arr_w(ec_ts_sr_array))"
      ],
      "execution_count": null,
      "outputs": []
    },
    {
      "cell_type": "code",
      "metadata": {
        "id": "NGmZVXNgsiiO",
        "colab": {
          "base_uri": "https://localhost:8080/"
        },
        "outputId": "2a5382d5-f061-4423-c40d-bd82a8f51bde"
      },
      "source": [
        "min_arr = np.array(min_arr)\n",
        "print(lp_lt_ss[min_arr.argmin()])\n",
        "print(ec_ts_sr[min_arr.argmin()])"
      ],
      "execution_count": null,
      "outputs": [
        {
          "output_type": "stream",
          "name": "stdout",
          "text": [
            "[232, 20, 500]\n",
            "[  1.83599714 630.52777778   7.54178042]\n"
          ]
        }
      ]
    },
    {
      "cell_type": "code",
      "metadata": {
        "colab": {
          "base_uri": "https://localhost:8080/"
        },
        "id": "cSNOQXTe5kz-",
        "outputId": "2940610c-ee07-4f8b-d6af-5f1db341b0a3"
      },
      "source": [
        "opt1 = [181,25,555]\n",
        "ec = regr1.predict([opt1])\n",
        "ts = regr2.predict([opt1])\n",
        "sr = regr3.predict([opt1])\n",
        "print(ec,ts,sr)"
      ],
      "execution_count": null,
      "outputs": [
        {
          "output_type": "stream",
          "name": "stdout",
          "text": [
            "[1.89941048] [626.38247863] [7.40373677]\n"
          ]
        }
      ]
    },
    {
      "cell_type": "code",
      "metadata": {
        "colab": {
          "base_uri": "https://localhost:8080/"
        },
        "id": "483nCC8t6cLD",
        "outputId": "1c698395-d17e-41a2-d43c-6886734977c2"
      },
      "source": [
        "opt1 = [207,35,700]\n",
        "ec = regr1.predict([opt1])\n",
        "ts = regr2.predict([opt1])\n",
        "sr = regr3.predict([opt1])\n",
        "print(ec,ts,sr)"
      ],
      "execution_count": null,
      "outputs": [
        {
          "output_type": "stream",
          "name": "stdout",
          "text": [
            "[1.0229775] [603.69993895] [10.7311455]\n"
          ]
        }
      ]
    }
  ]
}